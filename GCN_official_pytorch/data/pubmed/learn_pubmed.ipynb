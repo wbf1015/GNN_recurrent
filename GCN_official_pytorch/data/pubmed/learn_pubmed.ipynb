{
 "cells": [
  {
   "cell_type": "code",
   "execution_count": 4,
   "metadata": {},
   "outputs": [
    {
     "name": "stdout",
     "output_type": "stream",
     "text": [
      "{'label': -1, 'w-rat': 0, 'w-common': 1, 'w-use': 2, 'w-examin': 3, 'w-pathogenesi': 4, 'w-retinopathi': 5, 'w-mous': 6, 'w-studi': 7, 'w-anim': 8, 'w-model': 9, 'w-metabol': 10, 'w-abnorm': 11, 'w-contribut': 12, 'w-develop': 13, 'w-investig': 14, 'w-mice': 15, 'w-2': 16, 'w-month': 17, 'w-compar': 18, 'w-obtain': 19, 'w-method': 20, 'w-induc': 21, 'w-6': 22, 'w-inject': 23, 'w-experiment': 24, 'w-normal': 25, 'w-diet': 26, 'w-30': 27, 'w-hyperglycemia': 28, 'w-level': 29, 'w-lipid': 30, 'w-oxid': 31, 'w-activ': 32, 'w-protein': 33, 'w-kinas': 34, 'w-c': 35, 'w-measur': 36, 'w-result': 37, 'w-increas': 38, 'w-retin': 39, 'w-stress': 40, 'w-3': 41, 'w-similar': 42, 'w-observ': 43, 'w-conclus': 44, 'w-play': 45, 'w-import': 46, 'w-role': 47, 'w-present': 48, 'w-p': 49, 'w-m': 50, 'w-r': 51, 'w-muscl': 52, 'w-control': 53, 'w-chang': 54, 'w-dure': 55, 'w-lower': 56, 'w-higher': 57, 'w-mass': 58, 'w-correl': 59, 'w-decreas': 60, 'w-determin': 61, 'w-concentr': 62, 'w-stimul': 63, 'w-period': 64, 'w-caus': 65, 'w-mark': 66, 'w-group': 67, 'w-evid': 68, 'w-fast': 69, 'w-type': 70, 'w-signific': 71, 'w-differ': 72, 'w-ratio': 73, 'w-suggest': 74, 'w-degre': 75, 'w-occur': 76, 'w-vivo': 77, 'w-respect': 78, 'w-dysfunct': 79, 'w-region': 80, 'w-high': 81, 'w-appear': 82, 'w-sever': 83, 'w-affect': 84, 'w-cardiovascular': 85, 'w-complic': 86, 'w-primari': 87, 'w-death': 88, 'w-patient': 89, 'w-clinic': 90, 'w-suscept': 91, 'w-cardiac': 92, 'w-tissu': 93, 'w-specif': 94, 'w-function': 95, 'w-defect': 96, 'w-possibl': 97, 'w-indic': 98, 'w-state': 99, 'w-onli': 100, 'w-bodi': 101, 'w-weight': 102, 'w-loss': 103, 'w-valu': 104, 'w-howev': 105, 'w-4': 106, 'w-condit': 107, 'w-durat': 108, 'w-8': 109, 'w-week': 110, 'w-onset': 111, 'w-data': 112, 'w-direct': 113, 'w-report': 114, 'w-provid': 115, 'w-addit': 116, 'w-evalu': 117, 'w-sensit': 118, 'w-heart': 119, 'w-object': 120, 'w-mean': 121, 'w-blood': 122, 'w-glucos': 123, 'w-strong': 124, 'w-hba': 125, 'w-1c': 126, 'w-a1c': 127, 'w-variabl': 128, 'w-independ': 129, 'w-assess': 130, 'w-relat': 131, 'w-trial': 132, 'w-research': 133, 'w-design': 134, 'w-profil': 135, 'w-sampl': 136, 'w-particip': 137, 'w-n': 138, 'w-1': 139, 'w-consist': 140, 'w-befor': 141, 'w-min': 142, 'w-predict': 143, 'w-adjust': 144, 'w-sex': 145, 'w-treatment': 146, 'w-7': 147, 'w-gt': 148, 'w-0': 149, 'w-larg': 150, 'w-influenc': 151, 'w-base': 152, 'w-standard': 153, 'w-14': 154, 'w-10': 155, 'w-wherea': 156, 'w-enhanc': 157, 'w-manag': 158, 'w-day': 159, 'w-secret': 160, 'w-cholesterol': 161, 'w-insulin': 162, 'w-24': 163, 'w-h': 164, 'w-low': 165, 'w-rate': 166, 'w-fatti': 167, 'w-acid': 168, 'w-effect': 169, 'w-hormon': 170, 'w-hepat': 171, 'w-contrast': 172, 'w-product': 173, 'w-major': 174, 'w-plasma': 175, 'w-current': 176, 'w-flow': 177, 'w-chronic': 178, 'w-mechan': 179, 'w-test': 180, 'w-therefor': 181, 'w-analys': 182, 'w-mrna': 183, 'w-streptozotocin': 184, 'w-did': 185, 'w-15': 186, 'w-g': 187, 'w-25': 188, 'w-mmol': 189, 'w-l': 190, 'w-5': 191, 'w-reduc': 192, 'w-number': 193, 'w-densiti': 194, 'w-posit': 195, 'w-cell': 196, 'w-17': 197, 'w-mm': 198, 'w-18': 199, 'w-induct': 200, 'w-associ': 201, 'w-express': 202, 'w-glycem': 203, 'w-respons': 204, 'w-therapi': 205, 'w-random': 206, 'w-initi': 207, 'w-ani': 208, 'w-singl': 209, 'w-new': 210, 'w-agent': 211, 'w-metformin': 212, 'w-medic': 213, 'w-glycosyl': 214, 'w-hemoglobin': 215, 'w-analysi': 216, 'w-baselin': 217, 'w-health': 218, 'w-factor': 219, 'w-process': 220, 'w-care': 221, 'w-9': 222, 'w-01': 223, 'w-95': 224, 'w-interv': 225, 'w-ci': 226, 'w-12': 227, 'w-reduct': 228, 'w-achiev': 229, 'w-target': 230, 'w-lt': 231, 'w-diseas': 232, 'w-class': 233, 'w-age': 234, 'w-obes': 235, 'w-renal': 236, 'w-improv': 237, 'w-progress': 238, 'w-noninsulindepend': 239, 'w-mellitus': 240, 'w-becaus': 241, 'w-s': 242, 'w-index': 243, 'w-hypertens': 244, 'w-need': 245, 'w-followup': 246, 'w-year': 247, 'w-mg': 248, 'w-dl': 249, 'w-remain': 250, 'w-subject': 251, 'w-treat': 252, 'w-oral': 253, 'w-requir': 254, 'w-0001': 255, 'w-mortal': 256, 'w-includ': 257, 'w-vs': 258, 'w-background': 259, 'w-poor': 260, 'w-drug': 261, 'w-13': 262, 'w-rang': 263, 'w-combin': 264, 'w-intervent': 265, 'w-daili': 266, 'w-dose': 267, 'w-100': 268, 'w-toler': 269, 'w-receiv': 270, 'w-11': 271, 'w-postprandi': 272, 'w-kg': 273, 'w-hypoglycemia': 274, 'w-frequent': 275, 'w-event': 276, 'w-versus': 277, 'w-symptom': 278, 'w-incid': 279, 'w-parent': 280, 'w-complex': 281, 'w-longterm': 282, 'w-inhibitor': 283, 'w-peripher': 284, 'w-nerv': 285, 'w-stz': 286, 'w-conduct': 287, 'w-demonstr': 288, 'w-frequenc': 289, 'w-inhibit': 290, 'w-neuropathi': 291, 'w-pathway': 292, 'w-shown': 293, 'w-time': 294, 'w-ii': 295, 'w-individu': 296, 'w-adult': 297, 'w-50': 298, 'w-60': 299, 'w-diagnosi': 300, 'w-healthi': 301, 'w-follow': 302, 'w-young': 303, 'w-seen': 304, 'w-alter': 305, 'w-gene': 306, 'w-e': 307, 'w-identifi': 308, 'w-previous': 309, 'w-mediat': 310, 'w-vascular': 311, 'w-lipoprotein': 312, 'w-involv': 313, 'w-phenotyp': 314, 'w-confirm': 315, 'w-variant': 316, 'w-endotheli': 317, 'w-potenti': 318, 'w-disord': 319, 'w-popul': 320, 'w-nonobes': 321, 'w-aim': 322, 'w-serum': 323, 'w-hba1c': 324, 'w-hypoglycaemia': 325, 'w-continu': 326, 'w-case': 327, 'w-impair': 328, 'w-risk': 329, 'w-known': 330, 'w-men': 331, 'w-women': 332, 'w-40': 333, 'w-complet': 334, 'w-estim': 335, 'w-like': 336, 'w-particular': 337, 'w-human': 338, 'w-character': 339, 'w-elev': 340, 'w-synthesi': 341, 'w-greater': 342, 'w-small': 343, 'w-reveal': 344, 'w-liver': 345, 'w-niddm': 346, 'w-genet': 347, 'w-receptor': 348, 'w-growth': 349, 'w-pancreat': 350, 'w-betacel': 351, 'w-molecul': 352, 'w-enzym': 353, 'w-regul': 354, 'w-polymorph': 355, 'w-total': 356, 'w-allel': 357, 'w-02': 358, 'w-resist': 359, 'w-cpeptid': 360, 'w-hypothesi': 361, 'w-perform': 362, 'w-score': 363, 'w-001': 364, 'w-05': 365, 'w-histori': 366, 'w-action': 367, 'w-approxim': 368, 'w-suppress': 369, 'w-glucagon': 370, 'w-ml': 371, 'w-x': 372, 'w-free': 373, 'w-peopl': 374, 'w-uptak': 375, 'w-intens': 376, 'w-relationship': 377, 'w-prevent': 378, 'w-autoimmun': 379, 'w-recent': 380, 'w-preval': 381, 'w-nondiabet': 382, 'w-genotyp': 383, 'w-conclud': 384, 'w-linkag': 385, 'w-islet': 386, 'w-peptid': 387, 'w-form': 388, 'w-membran': 389, 'w-transgen': 390, 'w-failur': 391, 'w-isol': 392, 'w-negat': 393, 'w-earli': 394, 'w-famili': 395, 'w-chromosom': 396, 'w-immun': 397, 'w-support': 398, 'w-16': 399, 'w-cohort': 400, 'w-insulindepend': 401, 'w-outcom': 402, 'w-screen': 403, 'w-approach': 404, 'w-infus': 405, 'w-multipl': 406, 'w-depend': 407, 'w-physic': 408, 'w-transport': 409, 'w-acut': 410, 'w-releas': 411, 'w-presenc': 412, 'w-glycaem': 413, 'w-male': 414, 'w-antibodi': 415, 'w-femal': 416, 'w-pattern': 417, 'w-t2dm': 418, 'w-promot': 419, 'w-fat': 420, 'w-d': 421, 'w-bmi': 422, 'w-haplotyp': 423, 'w-triglycerid': 424, 'w-interact': 425, 'w-marker': 426, 'w-describ': 427, 'w-area': 428, 'w-20': 429, 'w-cytokin': 430, 'w-bind': 431, 'w-bb': 432, 'w-alpha': 433, 'w-beta': 434, 'w-cd4': 435, 'w-spontan': 436, 'w-given': 437, 'w-vitro': 438, 'w-basal': 439, 'w-protect': 440, 'w-pressur': 441, 'w-detect': 442, 'w-exercis': 443, 'w-children': 444, 'w-adolesc': 445, 'w-life': 446, 'w-b': 447, 'w-antigen': 448, 'w-iddm': 449, 'w-american': 450, 'w-hla': 451, 'w-arteri': 452, 'w-nephropathi': 453, 'w-review': 454, 'w-destruct': 455, 'w-content': 456, 'w-autoantibodi': 457, 'w-dm': 458, 'w-select': 459, 'w-infect': 460, 'w-recipi': 461, 'w-intak': 462, 'w-placebo': 463, 'w-db': 464, 'w-pancrea': 465, 'w-diagnos': 466, 'w-glomerular': 467, 'w-albumin': 468, 'w-excret': 469, 'w-syndrom': 470, 'w-t': 471, 'w-lymphocyt': 472, 'w-produc': 473, 'w-coronari': 474, 'w-status': 475, 'w-microalbuminuria': 476, 'w-nod': 477, 'w-mhc': 478, 'w-insul': 479, 'w-administr': 480, 'w-revers': 481, 'w-transplant': 482, 'w-graft': 483, 'w-t1d': 484, 'w-lead': 485, 'w-v': 486, 'w-dietari': 487, 'w-general': 488, 'w-macrophag': 489, 'w-kidney': 490, 'w-urinari': 491, 'w-myocardi': 492, 'w-meal': 493, 'w-ica': 494, 'w-locus': 495, 'w-tcell': 496, 'w-depress': 497, 'w-bone': 498, 'w-mutat': 499, 'summary\\n': 500}\n"
     ]
    }
   ],
   "source": [
    "feat_data = []\n",
    "labels = [] # label sequence of node\n",
    "node_map = {} # map node to Node_ID\n",
    "with open('Pubmed-Diabetes.NODE.paper.tab') as fp:\n",
    "    fp.readline()\n",
    "    # 构造一个feat_map，让每一个特征和对应的特征索引对应起来\n",
    "    feat_map = {entry.split(\":\")[1]:i-1 for i,entry in enumerate(fp.readline().split(\"\\t\"))}\n",
    "    # print(feat_map)\n",
    "    # 大概输出一下就知道他在干嘛了，第一行没用，第二行做特证明-索引的映射，第三行开始才是针对每一行文献做embedding"
   ]
  },
  {
   "cell_type": "code",
   "execution_count": 1,
   "metadata": {},
   "outputs": [
    {
     "ename": "NameError",
     "evalue": "name 'pubmed_content_file' is not defined",
     "output_type": "error",
     "traceback": [
      "\u001b[0;31m---------------------------------------------------------------------------\u001b[0m",
      "\u001b[0;31mNameError\u001b[0m                                 Traceback (most recent call last)",
      "\u001b[1;32m/code/GCN_pytorch/data/pubmed/learn_pubmed.ipynb Cell 2\u001b[0m in \u001b[0;36m<cell line: 5>\u001b[0;34m()\u001b[0m\n\u001b[1;32m      <a href='vscode-notebook-cell://ssh-remote%2Bi-2.gpushare.com/code/GCN_pytorch/data/pubmed/learn_pubmed.ipynb#W1sdnNjb2RlLXJlbW90ZQ%3D%3D?line=2'>3</a>\u001b[0m labels \u001b[39m=\u001b[39m [] \u001b[39m# label sequence of node\u001b[39;00m\n\u001b[1;32m      <a href='vscode-notebook-cell://ssh-remote%2Bi-2.gpushare.com/code/GCN_pytorch/data/pubmed/learn_pubmed.ipynb#W1sdnNjb2RlLXJlbW90ZQ%3D%3D?line=3'>4</a>\u001b[0m node_map \u001b[39m=\u001b[39m {} \u001b[39m# map node to Node_ID\u001b[39;00m\n\u001b[0;32m----> <a href='vscode-notebook-cell://ssh-remote%2Bi-2.gpushare.com/code/GCN_pytorch/data/pubmed/learn_pubmed.ipynb#W1sdnNjb2RlLXJlbW90ZQ%3D%3D?line=4'>5</a>\u001b[0m \u001b[39mwith\u001b[39;00m \u001b[39mopen\u001b[39m(pubmed_content_file) \u001b[39mas\u001b[39;00m fp:\n\u001b[1;32m      <a href='vscode-notebook-cell://ssh-remote%2Bi-2.gpushare.com/code/GCN_pytorch/data/pubmed/learn_pubmed.ipynb#W1sdnNjb2RlLXJlbW90ZQ%3D%3D?line=5'>6</a>\u001b[0m     fp\u001b[39m.\u001b[39mreadline()\n\u001b[1;32m      <a href='vscode-notebook-cell://ssh-remote%2Bi-2.gpushare.com/code/GCN_pytorch/data/pubmed/learn_pubmed.ipynb#W1sdnNjb2RlLXJlbW90ZQ%3D%3D?line=6'>7</a>\u001b[0m     feat_map \u001b[39m=\u001b[39m {entry\u001b[39m.\u001b[39msplit(\u001b[39m\"\u001b[39m\u001b[39m:\u001b[39m\u001b[39m\"\u001b[39m)[\u001b[39m1\u001b[39m]:i\u001b[39m-\u001b[39m\u001b[39m1\u001b[39m \u001b[39mfor\u001b[39;00m i,entry \u001b[39min\u001b[39;00m \u001b[39menumerate\u001b[39m(fp\u001b[39m.\u001b[39mreadline()\u001b[39m.\u001b[39msplit(\u001b[39m\"\u001b[39m\u001b[39m\\t\u001b[39;00m\u001b[39m\"\u001b[39m))}\n",
      "\u001b[0;31mNameError\u001b[0m: name 'pubmed_content_file' is not defined"
     ]
    }
   ],
   "source": [
    "# 参考了GraphSAGE对pubmed的处理过程\n",
    "# https://github.com/twjiang/graphSAGE-pytorch/blob/master/src/dataCenter.py\n",
    "feat_data = []\n",
    "labels = [] # label sequence of node\n",
    "node_map = {} # map node to Node_ID\n",
    "with open(pubmed_content_file) as fp:\n",
    "    fp.readline()\n",
    "    feat_map = {entry.split(\":\")[1]:i-1 for i,entry in enumerate(fp.readline().split(\"\\t\"))}\n",
    "    for i, line in enumerate(fp):\n",
    "        info = line.split(\"\\t\")\n",
    "        node_map[info[0]] = i\n",
    "        labels.append(int(info[1].split(\"=\")[1])-1)\n",
    "        tmp_list = np.zeros(len(feat_map)-2)\n",
    "        for word_info in info[2:-1]:\n",
    "            word_info = word_info.split(\"=\")\n",
    "            tmp_list[feat_map[word_info[0]]] = float(word_info[1])\n",
    "        feat_data.append(tmp_list)\n",
    "\n",
    "feat_data = np.asarray(feat_data)\n",
    "labels = np.asarray(labels, dtype=np.int64)\n",
    "\n",
    "adj_lists = defaultdict(set)\n",
    "with open(pubmed_cite_file) as fp:\n",
    "    fp.readline()\n",
    "    fp.readline()\n",
    "    for line in fp:\n",
    "        info = line.strip().split(\"\\t\")\n",
    "        paper1 = node_map[info[1].split(\":\")[1]]\n",
    "        paper2 = node_map[info[-1].split(\":\")[1]]\n",
    "        adj_lists[paper1].add(paper2)\n",
    "        adj_lists[paper2].add(paper1)\n",
    "\n",
    "assert len(feat_data) == len(labels) == len(adj_lists)\n",
    "test_indexs, val_indexs, train_indexs = self._split_data(feat_data.shape[0])"
   ]
  }
 ],
 "metadata": {
  "kernelspec": {
   "display_name": "Python 3 (ipykernel)",
   "language": "python",
   "name": "python3"
  },
  "language_info": {
   "codemirror_mode": {
    "name": "ipython",
    "version": 3
   },
   "file_extension": ".py",
   "mimetype": "text/x-python",
   "name": "python",
   "nbconvert_exporter": "python",
   "pygments_lexer": "ipython3",
   "version": "3.8.10"
  },
  "orig_nbformat": 4
 },
 "nbformat": 4,
 "nbformat_minor": 2
}
